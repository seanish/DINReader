{
 "cells": [
  {
   "cell_type": "code",
   "execution_count": 4,
   "metadata": {},
   "outputs": [],
   "source": [
    "from PyPDF2 import PdfReader\n",
    "from PIL import Image\n",
    "import pytesseract\n",
    "import fitz"
   ]
  },
  {
   "cell_type": "code",
   "execution_count": 27,
   "metadata": {},
   "outputs": [],
   "source": [
    "scanned_pdf = 'kmeans_algorithm.pdf'"
   ]
  },
  {
   "cell_type": "code",
   "execution_count": 28,
   "metadata": {},
   "outputs": [],
   "source": [
    "reader = PdfReader(scanned_pdf)\n",
    "\n",
    "pdf_string_2 = ''\n",
    "\n",
    "for page in range(len(reader.pages)):\n",
    "    pdf_string_2 += reader.pages[page].extract_text()"
   ]
  },
  {
   "cell_type": "code",
   "execution_count": 29,
   "metadata": {},
   "outputs": [
    {
     "name": "stdout",
     "output_type": "stream",
     "text": [
      "\n"
     ]
    }
   ],
   "source": [
    "print(pdf_string_2)"
   ]
  },
  {
   "cell_type": "code",
   "execution_count": 103,
   "metadata": {},
   "outputs": [],
   "source": [
    "doc = fitz.open('kmeans_algorithm.pdf')"
   ]
  },
  {
   "cell_type": "code",
   "execution_count": 104,
   "metadata": {},
   "outputs": [],
   "source": [
    "for page in doc:\n",
    "    pix = page.get_pixmap()\n",
    "    pix.save(f'{page}.png')"
   ]
  },
  {
   "cell_type": "code",
   "execution_count": 105,
   "metadata": {},
   "outputs": [],
   "source": [
    "ocrd_text = pytesseract.image_to_string(Image.open('page 0 of kmeans_algorithm.pdf.png'))\n"
   ]
  },
  {
   "cell_type": "code",
   "execution_count": 106,
   "metadata": {},
   "outputs": [
    {
     "name": "stdout",
     "output_type": "stream",
     "text": [
      "K-means algorithm\n",
      "\n",
      "* Given k, the k-means algorithm works as follows:\n",
      "\n",
      "1.\n",
      "\n",
      "Choose k (random) data points (seeds) to be the initial\n",
      "centroids, cluster centers\n",
      "\n",
      "Assign each data point to the closest centroid\n",
      "\n",
      "Re-compute the centroids using the current cluster\n",
      "memberships\n",
      "\n",
      "If a convergence criterion is not met, repeat steps 2 and 3\n",
      "2510804\n"
     ]
    }
   ],
   "source": [
    "ocrd_text += str(2510804)\n",
    "print(ocrd_text)"
   ]
  },
  {
   "cell_type": "code",
   "execution_count": 107,
   "metadata": {},
   "outputs": [
    {
     "name": "stdout",
     "output_type": "stream",
     "text": [
      "[1, 2, 3, 2510804]\n"
     ]
    }
   ],
   "source": [
    "import re\n",
    "re.findall(r'\\d+', ocrd_text)\n",
    "\n",
    "candidates = re.findall(r'\\d+', ocrd_text)\n",
    "\n",
    "candidates = [int(item) for item in candidates]\n",
    "\n",
    "print(candidates)"
   ]
  },
  {
   "cell_type": "code",
   "execution_count": 94,
   "metadata": {},
   "outputs": [
    {
     "name": "stdout",
     "output_type": "stream",
     "text": [
      "<class 'int'>\n"
     ]
    }
   ],
   "source": [
    "print(type(candidates[3]))"
   ]
  },
  {
   "cell_type": "code",
   "execution_count": 108,
   "metadata": {},
   "outputs": [
    {
     "name": "stdout",
     "output_type": "stream",
     "text": [
      "       Drug Code               Product Categorization         Class      DIN  \\\n",
      "0          10000                                  NaN    Veterinary   813761   \n",
      "1         100000         CAT IV - SUNBURN PROTECTANTS         Human  2510804   \n",
      "2         100001         CAT IV - SUNBURN PROTECTANTS         Human  2510812   \n",
      "3         100002                                  NaN         Human  2510839   \n",
      "4          10001                                  NaN    Veterinary   813826   \n",
      "...          ...                                  ...           ...      ...   \n",
      "13084      99991                                  NaN         Human  2510715   \n",
      "13085      99993                                  NaN         Human  2510731   \n",
      "13086      99994                                  NaN         Human  2510758   \n",
      "13087      99996  CAT IV - HARD SURFACE DISINFECTANTS  Disinfectant  2510766   \n",
      "13088      99999                                  NaN         Human  2510790   \n",
      "\n",
      "                                              Brand Name        Descriptor  \\\n",
      "0                                               LINCOMIX               NaN   \n",
      "1      COOLA CLASSIC FACE SPF 50 SUNSCREEN LOTION FRA...               NaN   \n",
      "2      COOLA CLASSIC FACE SPF 50 SUNSCREEN LOTION WHI...               NaN   \n",
      "3                                                 VYEPTI   SINGLE USE VIAL   \n",
      "4                                         MGA 100 PREMIX               NaN   \n",
      "...                                                  ...               ...   \n",
      "13084                                  NRA-QUETIAPINE XR               NaN   \n",
      "13085                                   JAMP CLOXACILLIN               NaN   \n",
      "13086                                   JAMP CLOXACILLIN               NaN   \n",
      "13087                       DISINFECTANT AEROSOL ISOCARE               NaN   \n",
      "13088         PMS-METOCLOPRAMIDE HYDROCHLORIDE INJECTION  SINGLE USE VIALS   \n",
      "\n",
      "      Pediatric Flag Accession Number  Number of AIS Last Update Date  \\\n",
      "0                  N            69580              1      03-DEC-2018   \n",
      "1                  N              NaN              4      22-JUL-2021   \n",
      "2                  N              NaN              4      22-JUL-2021   \n",
      "3                  N              NaN              1      17-NOV-2023   \n",
      "4                  N            69581              1      15-AUG-2016   \n",
      "...              ...              ...            ...              ...   \n",
      "13084              N              NaN              1      30-OCT-2023   \n",
      "13085              N              NaN              1      20-NOV-2023   \n",
      "13086              N              NaN              1      20-NOV-2023   \n",
      "13087              N              NaN              2      11-FEB-2021   \n",
      "13088              N              NaN              1      27-JUL-2021   \n",
      "\n",
      "       AI Group Number       Class F Brand Name F          Descriptor F  \n",
      "0            105826008   Vétérinaire          NaN                   NaN  \n",
      "1            451521100        Humain          NaN                   NaN  \n",
      "2            451521100        Humain          NaN                   NaN  \n",
      "3            162703001        Humain          NaN  FIOLE À USAGE UNIQUE  \n",
      "4            106337002   Vétérinaire          NaN                   NaN  \n",
      "...                ...           ...          ...                   ...  \n",
      "13084        131858007        Humain          NaN                   NaN  \n",
      "13085        131306002        Humain          NaN                   NaN  \n",
      "13086        131306001        Humain          NaN                   NaN  \n",
      "13087        205019039  Désinfectant          NaN                   NaN  \n",
      "13088        109394003        Humain          NaN                   NaN  \n",
      "\n",
      "[13089 rows x 14 columns]\n"
     ]
    }
   ],
   "source": [
    "import pandas as pd\n",
    "\n",
    "drugInfo = pd.read_csv('./drugproductinfo/drug.txt', sep=',', names=['Drug Code', 'Product Categorization', 'Class', 'DIN', 'Brand Name', 'Descriptor', 'Pediatric Flag', 'Accession Number', 'Number of AIS', 'Last Update Date', 'AI Group Number', 'Class F', 'Brand Name F', 'Descriptor F'])\n",
    "\n",
    "print(drugInfo)\n",
    "\n",
    "drugInfo.to_excel(\"output.xlsx\", index=False)\n"
   ]
  },
  {
   "cell_type": "code",
   "execution_count": 109,
   "metadata": {},
   "outputs": [],
   "source": [
    "matches = pd.DataFrame(columns=['DIN', 'Brand Name', 'isValid', 'Location'])\n",
    "for candidate in candidates:\n",
    "    if drugInfo['DIN'].isin([candidate]).any():\n",
    "        brandName = drugInfo.loc[drugInfo['DIN'] == candidate, 'Brand Name'].iloc[0]\n",
    "        new_row = {'DIN': candidate, 'Brand Name': brandName, 'isValid': True, 'Location': 'page 0'}\n",
    "        new_row_df = pd.DataFrame([new_row])\n",
    "        matches = pd.concat([matches, new_row_df], ignore_index=True)\n",
    "\n",
    "\n",
    "matches.to_excel(\"output.xlsx\", index=False)"
   ]
  },
  {
   "cell_type": "code",
   "execution_count": 34,
   "metadata": {},
   "outputs": [],
   "source": [
    "import spacy \n",
    "  \n",
    "nlp = spacy.load('en_core_web_sm') "
   ]
  },
  {
   "cell_type": "code",
   "execution_count": 35,
   "metadata": {},
   "outputs": [
    {
     "name": "stdout",
     "output_type": "stream",
     "text": [
      "1 71 72 CARDINAL\n",
      "2 323 324 CARDINAL\n",
      "3 329 330 CARDINAL\n"
     ]
    }
   ],
   "source": [
    "doc = nlp(ocrd_text)\n",
    "\n",
    "for ent in doc.ents: \n",
    "    print(ent.text, ent.start_char, ent.end_char, ent.label_) "
   ]
  }
 ],
 "metadata": {
  "kernelspec": {
   "display_name": "env",
   "language": "python",
   "name": "python3"
  },
  "language_info": {
   "codemirror_mode": {
    "name": "ipython",
    "version": 3
   },
   "file_extension": ".py",
   "mimetype": "text/x-python",
   "name": "python",
   "nbconvert_exporter": "python",
   "pygments_lexer": "ipython3",
   "version": "3.9.18"
  }
 },
 "nbformat": 4,
 "nbformat_minor": 2
}
